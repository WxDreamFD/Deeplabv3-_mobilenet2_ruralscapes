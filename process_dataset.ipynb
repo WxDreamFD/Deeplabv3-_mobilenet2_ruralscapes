{
 "cells": [
  {
   "cell_type": "code",
   "execution_count": 1,
   "metadata": {},
   "outputs": [],
   "source": [
    "from PIL import Image\n",
    "import numpy as np"
   ]
  },
  {
   "cell_type": "code",
   "execution_count": 2,
   "metadata": {},
   "outputs": [],
   "source": [
    "img = Image.open(r\"VOCdevkit\\VOC2007\\SegmentationClass\\0.png\")"
   ]
  },
  {
   "cell_type": "code",
   "execution_count": 3,
   "metadata": {},
   "outputs": [],
   "source": [
    "img.show()"
   ]
  },
  {
   "cell_type": "code",
   "execution_count": 4,
   "metadata": {},
   "outputs": [],
   "source": [
    "img_np = np.array(img)"
   ]
  },
  {
   "cell_type": "code",
   "execution_count": 5,
   "metadata": {},
   "outputs": [
    {
     "data": {
      "text/plain": [
       "(256, 256)"
      ]
     },
     "execution_count": 5,
     "metadata": {},
     "output_type": "execute_result"
    }
   ],
   "source": [
    "img_np.shape"
   ]
  },
  {
   "cell_type": "code",
   "execution_count": 6,
   "metadata": {},
   "outputs": [
    {
     "data": {
      "text/plain": [
       "array([0, 1, 2, 3, 4], dtype=uint8)"
      ]
     },
     "execution_count": 6,
     "metadata": {},
     "output_type": "execute_result"
    }
   ],
   "source": [
    "np.unique(img_np)"
   ]
  },
  {
   "cell_type": "code",
   "execution_count": 9,
   "metadata": {},
   "outputs": [],
   "source": [
    "img1 = Image.open(r\"pictures\\json\\train_0_json\\label.png\")"
   ]
  },
  {
   "cell_type": "code",
   "execution_count": 10,
   "metadata": {},
   "outputs": [],
   "source": [
    "img1.show()"
   ]
  },
  {
   "cell_type": "code",
   "execution_count": 11,
   "metadata": {},
   "outputs": [],
   "source": [
    "img1_np = np.array(img1)"
   ]
  },
  {
   "cell_type": "code",
   "execution_count": 12,
   "metadata": {},
   "outputs": [
    {
     "data": {
      "text/plain": [
       "(256, 256)"
      ]
     },
     "execution_count": 12,
     "metadata": {},
     "output_type": "execute_result"
    }
   ],
   "source": [
    "img1_np.shape"
   ]
  },
  {
   "cell_type": "code",
   "execution_count": 16,
   "metadata": {},
   "outputs": [
    {
     "data": {
      "text/plain": [
       "array([0, 1, 2, 3, 4], dtype=uint8)"
      ]
     },
     "execution_count": 16,
     "metadata": {},
     "output_type": "execute_result"
    }
   ],
   "source": [
    "np.unique(img1_np)"
   ]
  },
  {
   "cell_type": "code",
   "execution_count": null,
   "metadata": {},
   "outputs": [],
   "source": []
  },
  {
   "cell_type": "code",
   "execution_count": null,
   "metadata": {},
   "outputs": [],
   "source": []
  },
  {
   "cell_type": "code",
   "execution_count": 7,
   "metadata": {},
   "outputs": [],
   "source": [
    "import os\n",
    "\n",
    "def findAllFile(base):\n",
    "    for root, ds, fs in os.walk(base):\n",
    "        for f in fs:\n",
    "            if f.endswith('.png'):\n",
    "                fullname = os.path.join(root, f)\n",
    "                yield fullname\n",
    "\n",
    "img_list = []\n",
    "label_list = []\n",
    "base = r'pictures\\json'\n",
    "for i in findAllFile(base):\n",
    "    file_name = os.path.basename(i)\n",
    "    if file_name == 'img.png':\n",
    "        img_list.append(i)\n",
    "    elif file_name == 'label.png':\n",
    "        label_list.append(i)\n",
    "\n"
   ]
  },
  {
   "cell_type": "code",
   "execution_count": 8,
   "metadata": {},
   "outputs": [
    {
     "data": {
      "text/plain": [
       "['pictures\\\\json\\\\train_0_json\\\\img.png',\n",
       " 'pictures\\\\json\\\\train_100_json\\\\img.png',\n",
       " 'pictures\\\\json\\\\train_101_json\\\\img.png',\n",
       " 'pictures\\\\json\\\\train_102_json\\\\img.png',\n",
       " 'pictures\\\\json\\\\train_103_json\\\\img.png',\n",
       " 'pictures\\\\json\\\\train_104_json\\\\img.png',\n",
       " 'pictures\\\\json\\\\train_105_json\\\\img.png',\n",
       " 'pictures\\\\json\\\\train_106_json\\\\img.png',\n",
       " 'pictures\\\\json\\\\train_107_json\\\\img.png',\n",
       " 'pictures\\\\json\\\\train_108_json\\\\img.png',\n",
       " 'pictures\\\\json\\\\train_109_json\\\\img.png',\n",
       " 'pictures\\\\json\\\\train_110_json\\\\img.png',\n",
       " 'pictures\\\\json\\\\train_111_json\\\\img.png',\n",
       " 'pictures\\\\json\\\\train_112_json\\\\img.png',\n",
       " 'pictures\\\\json\\\\train_113_json\\\\img.png',\n",
       " 'pictures\\\\json\\\\train_114_json\\\\img.png',\n",
       " 'pictures\\\\json\\\\train_115_json\\\\img.png',\n",
       " 'pictures\\\\json\\\\train_116_json\\\\img.png',\n",
       " 'pictures\\\\json\\\\train_117_json\\\\img.png',\n",
       " 'pictures\\\\json\\\\train_118_json\\\\img.png',\n",
       " 'pictures\\\\json\\\\train_119_json\\\\img.png',\n",
       " 'pictures\\\\json\\\\train_120_json\\\\img.png',\n",
       " 'pictures\\\\json\\\\train_121_json\\\\img.png',\n",
       " 'pictures\\\\json\\\\train_122_json\\\\img.png',\n",
       " 'pictures\\\\json\\\\train_123_json\\\\img.png',\n",
       " 'pictures\\\\json\\\\train_124_json\\\\img.png',\n",
       " 'pictures\\\\json\\\\train_125_json\\\\img.png',\n",
       " 'pictures\\\\json\\\\train_126_json\\\\img.png',\n",
       " 'pictures\\\\json\\\\train_127_json\\\\img.png',\n",
       " 'pictures\\\\json\\\\train_128_json\\\\img.png',\n",
       " 'pictures\\\\json\\\\train_129_json\\\\img.png',\n",
       " 'pictures\\\\json\\\\train_12_json\\\\img.png',\n",
       " 'pictures\\\\json\\\\train_130_json\\\\img.png',\n",
       " 'pictures\\\\json\\\\train_131_json\\\\img.png',\n",
       " 'pictures\\\\json\\\\train_132_json\\\\img.png',\n",
       " 'pictures\\\\json\\\\train_133_json\\\\img.png',\n",
       " 'pictures\\\\json\\\\train_134_json\\\\img.png',\n",
       " 'pictures\\\\json\\\\train_135_json\\\\img.png',\n",
       " 'pictures\\\\json\\\\train_136_json\\\\img.png',\n",
       " 'pictures\\\\json\\\\train_137_json\\\\img.png',\n",
       " 'pictures\\\\json\\\\train_138_json\\\\img.png',\n",
       " 'pictures\\\\json\\\\train_139_json\\\\img.png',\n",
       " 'pictures\\\\json\\\\train_140_json\\\\img.png',\n",
       " 'pictures\\\\json\\\\train_141_json\\\\img.png',\n",
       " 'pictures\\\\json\\\\train_142_json\\\\img.png',\n",
       " 'pictures\\\\json\\\\train_143_json\\\\img.png',\n",
       " 'pictures\\\\json\\\\train_144_json\\\\img.png',\n",
       " 'pictures\\\\json\\\\train_145_json\\\\img.png',\n",
       " 'pictures\\\\json\\\\train_146_json\\\\img.png',\n",
       " 'pictures\\\\json\\\\train_147_json\\\\img.png',\n",
       " 'pictures\\\\json\\\\train_148_json\\\\img.png',\n",
       " 'pictures\\\\json\\\\train_149_json\\\\img.png',\n",
       " 'pictures\\\\json\\\\train_150_json\\\\img.png',\n",
       " 'pictures\\\\json\\\\train_151_json\\\\img.png',\n",
       " 'pictures\\\\json\\\\train_152_json\\\\img.png',\n",
       " 'pictures\\\\json\\\\train_153_json\\\\img.png',\n",
       " 'pictures\\\\json\\\\train_154_json\\\\img.png',\n",
       " 'pictures\\\\json\\\\train_155_json\\\\img.png',\n",
       " 'pictures\\\\json\\\\train_156_json\\\\img.png',\n",
       " 'pictures\\\\json\\\\train_157_json\\\\img.png',\n",
       " 'pictures\\\\json\\\\train_158_json\\\\img.png',\n",
       " 'pictures\\\\json\\\\train_159_json\\\\img.png',\n",
       " 'pictures\\\\json\\\\train_15_json\\\\img.png',\n",
       " 'pictures\\\\json\\\\train_160_json\\\\img.png',\n",
       " 'pictures\\\\json\\\\train_161_json\\\\img.png',\n",
       " 'pictures\\\\json\\\\train_162_json\\\\img.png',\n",
       " 'pictures\\\\json\\\\train_163_json\\\\img.png',\n",
       " 'pictures\\\\json\\\\train_164_json\\\\img.png',\n",
       " 'pictures\\\\json\\\\train_165_json\\\\img.png',\n",
       " 'pictures\\\\json\\\\train_166_json\\\\img.png',\n",
       " 'pictures\\\\json\\\\train_167_json\\\\img.png',\n",
       " 'pictures\\\\json\\\\train_168_json\\\\img.png',\n",
       " 'pictures\\\\json\\\\train_169_json\\\\img.png',\n",
       " 'pictures\\\\json\\\\train_170_json\\\\img.png',\n",
       " 'pictures\\\\json\\\\train_171_json\\\\img.png',\n",
       " 'pictures\\\\json\\\\train_172_json\\\\img.png',\n",
       " 'pictures\\\\json\\\\train_173_json\\\\img.png',\n",
       " 'pictures\\\\json\\\\train_174_json\\\\img.png',\n",
       " 'pictures\\\\json\\\\train_175_json\\\\img.png',\n",
       " 'pictures\\\\json\\\\train_176_json\\\\img.png',\n",
       " 'pictures\\\\json\\\\train_177_json\\\\img.png',\n",
       " 'pictures\\\\json\\\\train_178_json\\\\img.png',\n",
       " 'pictures\\\\json\\\\train_179_json\\\\img.png',\n",
       " 'pictures\\\\json\\\\train_180_json\\\\img.png',\n",
       " 'pictures\\\\json\\\\train_181_json\\\\img.png',\n",
       " 'pictures\\\\json\\\\train_182_json\\\\img.png',\n",
       " 'pictures\\\\json\\\\train_183_json\\\\img.png',\n",
       " 'pictures\\\\json\\\\train_184_json\\\\img.png',\n",
       " 'pictures\\\\json\\\\train_185_json\\\\img.png',\n",
       " 'pictures\\\\json\\\\train_186_json\\\\img.png',\n",
       " 'pictures\\\\json\\\\train_187_json\\\\img.png',\n",
       " 'pictures\\\\json\\\\train_188_json\\\\img.png',\n",
       " 'pictures\\\\json\\\\train_189_json\\\\img.png',\n",
       " 'pictures\\\\json\\\\train_190_json\\\\img.png',\n",
       " 'pictures\\\\json\\\\train_191_json\\\\img.png',\n",
       " 'pictures\\\\json\\\\train_192_json\\\\img.png',\n",
       " 'pictures\\\\json\\\\train_193_json\\\\img.png',\n",
       " 'pictures\\\\json\\\\train_194_json\\\\img.png',\n",
       " 'pictures\\\\json\\\\train_195_json\\\\img.png',\n",
       " 'pictures\\\\json\\\\train_196_json\\\\img.png',\n",
       " 'pictures\\\\json\\\\train_197_json\\\\img.png',\n",
       " 'pictures\\\\json\\\\train_198_json\\\\img.png',\n",
       " 'pictures\\\\json\\\\train_199_json\\\\img.png',\n",
       " 'pictures\\\\json\\\\train_200_json\\\\img.png',\n",
       " 'pictures\\\\json\\\\train_201_json\\\\img.png',\n",
       " 'pictures\\\\json\\\\train_202_json\\\\img.png',\n",
       " 'pictures\\\\json\\\\train_203_json\\\\img.png',\n",
       " 'pictures\\\\json\\\\train_204_json\\\\img.png',\n",
       " 'pictures\\\\json\\\\train_205_json\\\\img.png',\n",
       " 'pictures\\\\json\\\\train_206_json\\\\img.png',\n",
       " 'pictures\\\\json\\\\train_207_json\\\\img.png',\n",
       " 'pictures\\\\json\\\\train_208_json\\\\img.png',\n",
       " 'pictures\\\\json\\\\train_209_json\\\\img.png',\n",
       " 'pictures\\\\json\\\\train_210_json\\\\img.png',\n",
       " 'pictures\\\\json\\\\train_211_json\\\\img.png',\n",
       " 'pictures\\\\json\\\\train_212_json\\\\img.png',\n",
       " 'pictures\\\\json\\\\train_2_json\\\\img.png',\n",
       " 'pictures\\\\json\\\\train_3_json\\\\img.png',\n",
       " 'pictures\\\\json\\\\train_49_json\\\\img.png',\n",
       " 'pictures\\\\json\\\\train_55_json\\\\img.png',\n",
       " 'pictures\\\\json\\\\train_56_json\\\\img.png',\n",
       " 'pictures\\\\json\\\\train_57_json\\\\img.png',\n",
       " 'pictures\\\\json\\\\train_58_json\\\\img.png',\n",
       " 'pictures\\\\json\\\\train_59_json\\\\img.png',\n",
       " 'pictures\\\\json\\\\train_60_json\\\\img.png',\n",
       " 'pictures\\\\json\\\\train_61_json\\\\img.png',\n",
       " 'pictures\\\\json\\\\train_62_json\\\\img.png',\n",
       " 'pictures\\\\json\\\\train_63_json\\\\img.png',\n",
       " 'pictures\\\\json\\\\train_64_json\\\\img.png',\n",
       " 'pictures\\\\json\\\\train_65_json\\\\img.png',\n",
       " 'pictures\\\\json\\\\train_66_json\\\\img.png',\n",
       " 'pictures\\\\json\\\\train_67_json\\\\img.png',\n",
       " 'pictures\\\\json\\\\train_68_json\\\\img.png',\n",
       " 'pictures\\\\json\\\\train_69_json\\\\img.png',\n",
       " 'pictures\\\\json\\\\train_70_json\\\\img.png',\n",
       " 'pictures\\\\json\\\\train_71_json\\\\img.png',\n",
       " 'pictures\\\\json\\\\train_72_json\\\\img.png',\n",
       " 'pictures\\\\json\\\\train_73_json\\\\img.png',\n",
       " 'pictures\\\\json\\\\train_74_json\\\\img.png',\n",
       " 'pictures\\\\json\\\\train_75_json\\\\img.png',\n",
       " 'pictures\\\\json\\\\train_76_json\\\\img.png',\n",
       " 'pictures\\\\json\\\\train_77_json\\\\img.png',\n",
       " 'pictures\\\\json\\\\train_78_json\\\\img.png',\n",
       " 'pictures\\\\json\\\\train_79_json\\\\img.png',\n",
       " 'pictures\\\\json\\\\train_7_json\\\\img.png',\n",
       " 'pictures\\\\json\\\\train_80_json\\\\img.png',\n",
       " 'pictures\\\\json\\\\train_81_json\\\\img.png',\n",
       " 'pictures\\\\json\\\\train_82_json\\\\img.png',\n",
       " 'pictures\\\\json\\\\train_83_json\\\\img.png',\n",
       " 'pictures\\\\json\\\\train_84_json\\\\img.png',\n",
       " 'pictures\\\\json\\\\train_85_json\\\\img.png',\n",
       " 'pictures\\\\json\\\\train_86_json\\\\img.png',\n",
       " 'pictures\\\\json\\\\train_87_json\\\\img.png',\n",
       " 'pictures\\\\json\\\\train_88_json\\\\img.png',\n",
       " 'pictures\\\\json\\\\train_89_json\\\\img.png',\n",
       " 'pictures\\\\json\\\\train_90_json\\\\img.png',\n",
       " 'pictures\\\\json\\\\train_91_json\\\\img.png',\n",
       " 'pictures\\\\json\\\\train_92_json\\\\img.png',\n",
       " 'pictures\\\\json\\\\train_93_json\\\\img.png',\n",
       " 'pictures\\\\json\\\\train_94_json\\\\img.png',\n",
       " 'pictures\\\\json\\\\train_95_json\\\\img.png',\n",
       " 'pictures\\\\json\\\\train_96_json\\\\img.png',\n",
       " 'pictures\\\\json\\\\train_97_json\\\\img.png',\n",
       " 'pictures\\\\json\\\\train_98_json\\\\img.png',\n",
       " 'pictures\\\\json\\\\train_99_json\\\\img.png']"
      ]
     },
     "execution_count": 8,
     "metadata": {},
     "output_type": "execute_result"
    }
   ],
   "source": [
    "img_list"
   ]
  },
  {
   "cell_type": "code",
   "execution_count": 9,
   "metadata": {},
   "outputs": [
    {
     "data": {
      "text/plain": [
       "['pictures\\\\json\\\\train_0_json\\\\label.png',\n",
       " 'pictures\\\\json\\\\train_100_json\\\\label.png',\n",
       " 'pictures\\\\json\\\\train_101_json\\\\label.png',\n",
       " 'pictures\\\\json\\\\train_102_json\\\\label.png',\n",
       " 'pictures\\\\json\\\\train_103_json\\\\label.png',\n",
       " 'pictures\\\\json\\\\train_104_json\\\\label.png',\n",
       " 'pictures\\\\json\\\\train_105_json\\\\label.png',\n",
       " 'pictures\\\\json\\\\train_106_json\\\\label.png',\n",
       " 'pictures\\\\json\\\\train_107_json\\\\label.png',\n",
       " 'pictures\\\\json\\\\train_108_json\\\\label.png',\n",
       " 'pictures\\\\json\\\\train_109_json\\\\label.png',\n",
       " 'pictures\\\\json\\\\train_110_json\\\\label.png',\n",
       " 'pictures\\\\json\\\\train_111_json\\\\label.png',\n",
       " 'pictures\\\\json\\\\train_112_json\\\\label.png',\n",
       " 'pictures\\\\json\\\\train_113_json\\\\label.png',\n",
       " 'pictures\\\\json\\\\train_114_json\\\\label.png',\n",
       " 'pictures\\\\json\\\\train_115_json\\\\label.png',\n",
       " 'pictures\\\\json\\\\train_116_json\\\\label.png',\n",
       " 'pictures\\\\json\\\\train_117_json\\\\label.png',\n",
       " 'pictures\\\\json\\\\train_118_json\\\\label.png',\n",
       " 'pictures\\\\json\\\\train_119_json\\\\label.png',\n",
       " 'pictures\\\\json\\\\train_120_json\\\\label.png',\n",
       " 'pictures\\\\json\\\\train_121_json\\\\label.png',\n",
       " 'pictures\\\\json\\\\train_122_json\\\\label.png',\n",
       " 'pictures\\\\json\\\\train_123_json\\\\label.png',\n",
       " 'pictures\\\\json\\\\train_124_json\\\\label.png',\n",
       " 'pictures\\\\json\\\\train_125_json\\\\label.png',\n",
       " 'pictures\\\\json\\\\train_126_json\\\\label.png',\n",
       " 'pictures\\\\json\\\\train_127_json\\\\label.png',\n",
       " 'pictures\\\\json\\\\train_128_json\\\\label.png',\n",
       " 'pictures\\\\json\\\\train_129_json\\\\label.png',\n",
       " 'pictures\\\\json\\\\train_12_json\\\\label.png',\n",
       " 'pictures\\\\json\\\\train_130_json\\\\label.png',\n",
       " 'pictures\\\\json\\\\train_131_json\\\\label.png',\n",
       " 'pictures\\\\json\\\\train_132_json\\\\label.png',\n",
       " 'pictures\\\\json\\\\train_133_json\\\\label.png',\n",
       " 'pictures\\\\json\\\\train_134_json\\\\label.png',\n",
       " 'pictures\\\\json\\\\train_135_json\\\\label.png',\n",
       " 'pictures\\\\json\\\\train_136_json\\\\label.png',\n",
       " 'pictures\\\\json\\\\train_137_json\\\\label.png',\n",
       " 'pictures\\\\json\\\\train_138_json\\\\label.png',\n",
       " 'pictures\\\\json\\\\train_139_json\\\\label.png',\n",
       " 'pictures\\\\json\\\\train_140_json\\\\label.png',\n",
       " 'pictures\\\\json\\\\train_141_json\\\\label.png',\n",
       " 'pictures\\\\json\\\\train_142_json\\\\label.png',\n",
       " 'pictures\\\\json\\\\train_143_json\\\\label.png',\n",
       " 'pictures\\\\json\\\\train_144_json\\\\label.png',\n",
       " 'pictures\\\\json\\\\train_145_json\\\\label.png',\n",
       " 'pictures\\\\json\\\\train_146_json\\\\label.png',\n",
       " 'pictures\\\\json\\\\train_147_json\\\\label.png',\n",
       " 'pictures\\\\json\\\\train_148_json\\\\label.png',\n",
       " 'pictures\\\\json\\\\train_149_json\\\\label.png',\n",
       " 'pictures\\\\json\\\\train_150_json\\\\label.png',\n",
       " 'pictures\\\\json\\\\train_151_json\\\\label.png',\n",
       " 'pictures\\\\json\\\\train_152_json\\\\label.png',\n",
       " 'pictures\\\\json\\\\train_153_json\\\\label.png',\n",
       " 'pictures\\\\json\\\\train_154_json\\\\label.png',\n",
       " 'pictures\\\\json\\\\train_155_json\\\\label.png',\n",
       " 'pictures\\\\json\\\\train_156_json\\\\label.png',\n",
       " 'pictures\\\\json\\\\train_157_json\\\\label.png',\n",
       " 'pictures\\\\json\\\\train_158_json\\\\label.png',\n",
       " 'pictures\\\\json\\\\train_159_json\\\\label.png',\n",
       " 'pictures\\\\json\\\\train_15_json\\\\label.png',\n",
       " 'pictures\\\\json\\\\train_160_json\\\\label.png',\n",
       " 'pictures\\\\json\\\\train_161_json\\\\label.png',\n",
       " 'pictures\\\\json\\\\train_162_json\\\\label.png',\n",
       " 'pictures\\\\json\\\\train_163_json\\\\label.png',\n",
       " 'pictures\\\\json\\\\train_164_json\\\\label.png',\n",
       " 'pictures\\\\json\\\\train_165_json\\\\label.png',\n",
       " 'pictures\\\\json\\\\train_166_json\\\\label.png',\n",
       " 'pictures\\\\json\\\\train_167_json\\\\label.png',\n",
       " 'pictures\\\\json\\\\train_168_json\\\\label.png',\n",
       " 'pictures\\\\json\\\\train_169_json\\\\label.png',\n",
       " 'pictures\\\\json\\\\train_170_json\\\\label.png',\n",
       " 'pictures\\\\json\\\\train_171_json\\\\label.png',\n",
       " 'pictures\\\\json\\\\train_172_json\\\\label.png',\n",
       " 'pictures\\\\json\\\\train_173_json\\\\label.png',\n",
       " 'pictures\\\\json\\\\train_174_json\\\\label.png',\n",
       " 'pictures\\\\json\\\\train_175_json\\\\label.png',\n",
       " 'pictures\\\\json\\\\train_176_json\\\\label.png',\n",
       " 'pictures\\\\json\\\\train_177_json\\\\label.png',\n",
       " 'pictures\\\\json\\\\train_178_json\\\\label.png',\n",
       " 'pictures\\\\json\\\\train_179_json\\\\label.png',\n",
       " 'pictures\\\\json\\\\train_180_json\\\\label.png',\n",
       " 'pictures\\\\json\\\\train_181_json\\\\label.png',\n",
       " 'pictures\\\\json\\\\train_182_json\\\\label.png',\n",
       " 'pictures\\\\json\\\\train_183_json\\\\label.png',\n",
       " 'pictures\\\\json\\\\train_184_json\\\\label.png',\n",
       " 'pictures\\\\json\\\\train_185_json\\\\label.png',\n",
       " 'pictures\\\\json\\\\train_186_json\\\\label.png',\n",
       " 'pictures\\\\json\\\\train_187_json\\\\label.png',\n",
       " 'pictures\\\\json\\\\train_188_json\\\\label.png',\n",
       " 'pictures\\\\json\\\\train_189_json\\\\label.png',\n",
       " 'pictures\\\\json\\\\train_190_json\\\\label.png',\n",
       " 'pictures\\\\json\\\\train_191_json\\\\label.png',\n",
       " 'pictures\\\\json\\\\train_192_json\\\\label.png',\n",
       " 'pictures\\\\json\\\\train_193_json\\\\label.png',\n",
       " 'pictures\\\\json\\\\train_194_json\\\\label.png',\n",
       " 'pictures\\\\json\\\\train_195_json\\\\label.png',\n",
       " 'pictures\\\\json\\\\train_196_json\\\\label.png',\n",
       " 'pictures\\\\json\\\\train_197_json\\\\label.png',\n",
       " 'pictures\\\\json\\\\train_198_json\\\\label.png',\n",
       " 'pictures\\\\json\\\\train_199_json\\\\label.png',\n",
       " 'pictures\\\\json\\\\train_200_json\\\\label.png',\n",
       " 'pictures\\\\json\\\\train_201_json\\\\label.png',\n",
       " 'pictures\\\\json\\\\train_202_json\\\\label.png',\n",
       " 'pictures\\\\json\\\\train_203_json\\\\label.png',\n",
       " 'pictures\\\\json\\\\train_204_json\\\\label.png',\n",
       " 'pictures\\\\json\\\\train_205_json\\\\label.png',\n",
       " 'pictures\\\\json\\\\train_206_json\\\\label.png',\n",
       " 'pictures\\\\json\\\\train_207_json\\\\label.png',\n",
       " 'pictures\\\\json\\\\train_208_json\\\\label.png',\n",
       " 'pictures\\\\json\\\\train_209_json\\\\label.png',\n",
       " 'pictures\\\\json\\\\train_210_json\\\\label.png',\n",
       " 'pictures\\\\json\\\\train_211_json\\\\label.png',\n",
       " 'pictures\\\\json\\\\train_212_json\\\\label.png',\n",
       " 'pictures\\\\json\\\\train_2_json\\\\label.png',\n",
       " 'pictures\\\\json\\\\train_3_json\\\\label.png',\n",
       " 'pictures\\\\json\\\\train_49_json\\\\label.png',\n",
       " 'pictures\\\\json\\\\train_55_json\\\\label.png',\n",
       " 'pictures\\\\json\\\\train_56_json\\\\label.png',\n",
       " 'pictures\\\\json\\\\train_57_json\\\\label.png',\n",
       " 'pictures\\\\json\\\\train_58_json\\\\label.png',\n",
       " 'pictures\\\\json\\\\train_59_json\\\\label.png',\n",
       " 'pictures\\\\json\\\\train_60_json\\\\label.png',\n",
       " 'pictures\\\\json\\\\train_61_json\\\\label.png',\n",
       " 'pictures\\\\json\\\\train_62_json\\\\label.png',\n",
       " 'pictures\\\\json\\\\train_63_json\\\\label.png',\n",
       " 'pictures\\\\json\\\\train_64_json\\\\label.png',\n",
       " 'pictures\\\\json\\\\train_65_json\\\\label.png',\n",
       " 'pictures\\\\json\\\\train_66_json\\\\label.png',\n",
       " 'pictures\\\\json\\\\train_67_json\\\\label.png',\n",
       " 'pictures\\\\json\\\\train_68_json\\\\label.png',\n",
       " 'pictures\\\\json\\\\train_69_json\\\\label.png',\n",
       " 'pictures\\\\json\\\\train_70_json\\\\label.png',\n",
       " 'pictures\\\\json\\\\train_71_json\\\\label.png',\n",
       " 'pictures\\\\json\\\\train_72_json\\\\label.png',\n",
       " 'pictures\\\\json\\\\train_73_json\\\\label.png',\n",
       " 'pictures\\\\json\\\\train_74_json\\\\label.png',\n",
       " 'pictures\\\\json\\\\train_75_json\\\\label.png',\n",
       " 'pictures\\\\json\\\\train_76_json\\\\label.png',\n",
       " 'pictures\\\\json\\\\train_77_json\\\\label.png',\n",
       " 'pictures\\\\json\\\\train_78_json\\\\label.png',\n",
       " 'pictures\\\\json\\\\train_79_json\\\\label.png',\n",
       " 'pictures\\\\json\\\\train_7_json\\\\label.png',\n",
       " 'pictures\\\\json\\\\train_80_json\\\\label.png',\n",
       " 'pictures\\\\json\\\\train_81_json\\\\label.png',\n",
       " 'pictures\\\\json\\\\train_82_json\\\\label.png',\n",
       " 'pictures\\\\json\\\\train_83_json\\\\label.png',\n",
       " 'pictures\\\\json\\\\train_84_json\\\\label.png',\n",
       " 'pictures\\\\json\\\\train_85_json\\\\label.png',\n",
       " 'pictures\\\\json\\\\train_86_json\\\\label.png',\n",
       " 'pictures\\\\json\\\\train_87_json\\\\label.png',\n",
       " 'pictures\\\\json\\\\train_88_json\\\\label.png',\n",
       " 'pictures\\\\json\\\\train_89_json\\\\label.png',\n",
       " 'pictures\\\\json\\\\train_90_json\\\\label.png',\n",
       " 'pictures\\\\json\\\\train_91_json\\\\label.png',\n",
       " 'pictures\\\\json\\\\train_92_json\\\\label.png',\n",
       " 'pictures\\\\json\\\\train_93_json\\\\label.png',\n",
       " 'pictures\\\\json\\\\train_94_json\\\\label.png',\n",
       " 'pictures\\\\json\\\\train_95_json\\\\label.png',\n",
       " 'pictures\\\\json\\\\train_96_json\\\\label.png',\n",
       " 'pictures\\\\json\\\\train_97_json\\\\label.png',\n",
       " 'pictures\\\\json\\\\train_98_json\\\\label.png',\n",
       " 'pictures\\\\json\\\\train_99_json\\\\label.png']"
      ]
     },
     "execution_count": 9,
     "metadata": {},
     "output_type": "execute_result"
    }
   ],
   "source": [
    "label_list"
   ]
  },
  {
   "cell_type": "code",
   "execution_count": 10,
   "metadata": {},
   "outputs": [
    {
     "data": {
      "text/plain": [
       "165"
      ]
     },
     "execution_count": 10,
     "metadata": {},
     "output_type": "execute_result"
    }
   ],
   "source": [
    "len(img_list)"
   ]
  },
  {
   "cell_type": "code",
   "execution_count": 11,
   "metadata": {},
   "outputs": [
    {
     "data": {
      "text/plain": [
       "165"
      ]
     },
     "execution_count": 11,
     "metadata": {},
     "output_type": "execute_result"
    }
   ],
   "source": [
    "len(label_list)"
   ]
  },
  {
   "cell_type": "code",
   "execution_count": 12,
   "metadata": {},
   "outputs": [],
   "source": [
    "img_save_path = r\"Data\\images\"\n",
    "label_save_path = r\"Data\\labels\"\n",
    "\n",
    "for i in range(len(img_list)):\n",
    "    img_path = img_list[i]\n",
    "    img = Image.open(img_path)\n",
    "    img.save(img_save_path + \"\\\\\" + str(i) + \".png\")\n",
    "\n",
    "    label_path = label_list[i]\n",
    "    label = Image.open(label_path)\n",
    "    label.save(label_save_path + \"\\\\\" + str(i) + \".png\")"
   ]
  },
  {
   "cell_type": "code",
   "execution_count": null,
   "metadata": {},
   "outputs": [],
   "source": []
  }
 ],
 "metadata": {
  "kernelspec": {
   "display_name": "pytorch",
   "language": "python",
   "name": "python3"
  },
  "language_info": {
   "codemirror_mode": {
    "name": "ipython",
    "version": 3
   },
   "file_extension": ".py",
   "mimetype": "text/x-python",
   "name": "python",
   "nbconvert_exporter": "python",
   "pygments_lexer": "ipython3",
   "version": "3.9.16"
  }
 },
 "nbformat": 4,
 "nbformat_minor": 2
}
